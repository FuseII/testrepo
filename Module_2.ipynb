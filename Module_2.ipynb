{
 "cells": [
  {
   "cell_type": "markdown",
   "metadata": {},
   "source": [
    "<center>\n",
    "    <img src=\"https://cf-courses-data.s3.us.cloud-object-storage.appdomain.cloud/IBMDeveloperSkillsNetwork-DS0105EN-SkillsNetwork/labs/Module2/images/SN_web_lightmode.png\" width=\"300\" alt=\"cognitiveclass.ai logo\">\n",
    "</center>\n"
   ]
  },
  {
   "cell_type": "markdown",
   "metadata": {},
   "source": [
    "# My Jupyter Notebook on IBM Watson Studio\n"
   ]
  },
  {
   "cell_type": "markdown",
   "metadata": {},
   "source": [
    "**Artem Kutepov**\n",
    "\n",
    "\n",
    "%100 human, software engineer and future data scientist"
   ]
  },
  {
   "cell_type": "markdown",
   "metadata": {},
   "source": [
    "*I am interested in data science because I love math, programming and computere science*"
   ]
  },
  {
   "cell_type": "markdown",
   "metadata": {},
   "source": [
    "### The following code prints greeting message and count square of given number"
   ]
  },
  {
   "cell_type": "code",
   "execution_count": 27,
   "metadata": {},
   "outputs": [
    {
     "name": "stdout",
     "output_type": "stream",
     "text": [
      "Hello, World!\n",
      "5 * 5 = 25\n"
     ]
    }
   ],
   "source": [
    "def square(x):\n",
    "    return x**2\n",
    "\n",
    "print(\"Hello, World!\")\n",
    "x = 5\n",
    "print(\"{0} * {0} = {1}\".format(x, square(x)))"
   ]
  },
  {
   "cell_type": "markdown",
   "metadata": {},
   "source": [
    "### Quick Tiger Facts\n",
    "1. **Wild Tiger Population:** 3,890\n",
    "\n",
    "2. **Types of Tigers:** 9 Subspecies (3 Extinct)\n",
    "\n",
    "3. **Where tigers live:** 13 countries (Bangladesh, Bhutan, Cambodia, China, India, Indonesia, Laos, Malaysia, Myanmar, Nepal, Russia, Thailand, and Vietnam)\n",
    "\n",
    "<center>\n",
    "    <img src=\"https://cdn.culture.ru/images/233ae63e-0235-5751-879c-865bb77bc654\" width=\"500\" alt=\"cognitiveclass.ai logo\">\n",
    "</center>\n",
    "\n",
    "| Common name | Weight | Size |\n",
    "| :----: | :----: | :----: |\n",
    "| Siberian tiger | 389 – 475 lbs (males), 260 – 303 lbs (females) | 70 – 82 inches (males), 66 – 72 inches (females) |\n",
    "| Bengal Tiger | 397 – 569 lbs (males), 220 – 350 lbs (females) | 110 – 120 inches (males), 94 – 104 inches (females) |\n",
    "| Indochinese Tiger | 331 to 430 lbs (males), 220 – 290 lbs (females) | 100 – 112 inches (males), 91 – 100 inches (females) |\n",
    "| Malayan tiger | 220 – 308 lbs (males), 165 – 245 lbs (females) | 75 – 112 inches (males), 70 – 103 inches (females) |\n",
    "| South China Tiger | 287 – 386 lbs (males), 220 – 254 lbs (females) | 791 – 104 inches (males), 87 – 94 inches (females) |\n",
    "| Sumatran Tiger | 220 – 310 lbs (males), 165 – 243 lbs (females) | 87 – 100 inches (males), 85 – 91 inches (females) |\n",
    "| Caspian Tiger | 370 – 530 lbs (males), 187 – 298 lbs (females) | 106 – 116 inches (males), 94 – 102 inches (females) |\n",
    "| Bali tiger | 200 – 220 lbs (males), 143 – 176 lbs (females) | 87 – 91 inches (males), 75 – 83 inches (females) |\n",
    "| Javan Tiger |  220 – 311 lbs (males), 165 – 254 lbs (females) | Around 90 – 100 inches |\n",
    "\n",
    "[ My GitHub repository](https://github.com/FuseII/testrepo/blob/main/Module_2.ipynb)"
   ]
  }
 ],
 "metadata": {
  "kernelspec": {
   "display_name": "Python 3 (ipykernel)",
   "language": "python",
   "name": "python3"
  },
  "language_info": {
   "codemirror_mode": {
    "name": "ipython",
    "version": 3
   },
   "file_extension": ".py",
   "mimetype": "text/x-python",
   "name": "python",
   "nbconvert_exporter": "python",
   "pygments_lexer": "ipython3",
   "version": "3.10.6"
  }
 },
 "nbformat": 4,
 "nbformat_minor": 4
}
